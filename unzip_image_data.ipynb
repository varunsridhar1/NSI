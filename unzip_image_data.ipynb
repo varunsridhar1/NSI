{
 "cells": [
  {
   "cell_type": "code",
   "execution_count": 10,
   "metadata": {},
   "outputs": [],
   "source": [
    "import zipfile"
   ]
  },
  {
   "cell_type": "code",
   "execution_count": 11,
   "metadata": {},
   "outputs": [],
   "source": [
    "path_to_zip_file = \"zipped_image_data/\"\n",
    "zipped_files = [\"triple_white_ultra_boost.zip\", \"solar_red_ultra_boost.zip\", \"pirate_black_yeezy.zip\",\n",
    "                \"jordan_1_shattered_backboard.zip\", \"jordan_1_shadow.zip\", \"jordan_1_chicago.zip\",\n",
    "                \"frozen_yellow_yeezy.zip\", \"core_black_ultra_boost.zip\", \"beluga_yeezy.zip\"]\n",
    "directory_to_extract_to = \"image_data\""
   ]
  },
  {
   "cell_type": "code",
   "execution_count": 12,
   "metadata": {},
   "outputs": [],
   "source": [
    "for file_name in zipped_files:\n",
    "    with zipfile.ZipFile(path_to_zip_file + file_name, 'r') as zip_ref:\n",
    "        zip_ref.extractall(directory_to_extract_to)"
   ]
  }
 ],
 "metadata": {
  "kernelspec": {
   "display_name": "Python 3",
   "language": "python",
   "name": "python3"
  },
  "language_info": {
   "codemirror_mode": {
    "name": "ipython",
    "version": 3
   },
   "file_extension": ".py",
   "mimetype": "text/x-python",
   "name": "python",
   "nbconvert_exporter": "python",
   "pygments_lexer": "ipython3",
   "version": "3.7.1"
  }
 },
 "nbformat": 4,
 "nbformat_minor": 2
}
