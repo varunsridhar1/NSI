{
 "cells": [
  {
   "cell_type": "code",
   "execution_count": 4,
   "metadata": {},
   "outputs": [],
   "source": [
    "import os\n",
    "from PIL import Image"
   ]
  },
  {
   "cell_type": "code",
   "execution_count": 8,
   "metadata": {},
   "outputs": [],
   "source": [
    "train_folders = [\"beluga_yeezy\", \"core_black_ultra_boost\", \"frozen_yellow_yeezy\", \"jordan_1_chicago\", \"jordan_1_shadow\",\n",
    "                 \"jordan_1_shattered_backboard\", \"pirate_black_yeezy\", \"solar_red_ultra_boost\", \"triple_white_ultra_boost\"]\n",
    "\n",
    "for folder in train_folders:\n",
    "    i = 0\n",
    "    directory = \"images/train/\" + folder + \"/\"\n",
    "    for filename in os.listdir(directory):\n",
    "        try:\n",
    "            img = Image.open(directory + filename)\n",
    "        except:\n",
    "            os.remove(directory + filename)"
   ]
  },
  {
   "cell_type": "code",
   "execution_count": null,
   "metadata": {},
   "outputs": [],
   "source": [
    "test_folders = [\"beluga_yeezy\", \"core_black_ultra_boost\", \"frozen_yellow_yeezy\", \"jordan_1_chicago\", \"jordan_1_shadow\",\n",
    "                 \"jordan_1_shattered_backboard\", \"pirate_black_yeezy\", \"solar_red_ultra_boost\", \"triple_white_ultra_boost\"]\n",
    "\n",
    "for folder in test_folders:\n",
    "    i = 0\n",
    "    directory = \"images/test/\" + folder + \"/\"\n",
    "    for filename in os.listdir(directory):\n",
    "        try:\n",
    "            img = Image.open(directory + filename)\n",
    "        except:\n",
    "            os.remove(directory + filename)"
   ]
  }
 ],
 "metadata": {
  "kernelspec": {
   "display_name": "Python 3",
   "language": "python",
   "name": "python3"
  },
  "language_info": {
   "codemirror_mode": {
    "name": "ipython",
    "version": 3
   },
   "file_extension": ".py",
   "mimetype": "text/x-python",
   "name": "python",
   "nbconvert_exporter": "python",
   "pygments_lexer": "ipython3",
   "version": "3.7.1"
  }
 },
 "nbformat": 4,
 "nbformat_minor": 2
}
